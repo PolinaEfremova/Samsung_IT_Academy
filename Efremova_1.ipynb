{
 "cells": [
  {
   "cell_type": "code",
   "execution_count": 1,
   "metadata": {},
   "outputs": [],
   "source": [
    "import numpy as np \n",
    "import pandas as pd \n",
    "\n",
    "from sklearn.model_selection import train_test_split\n",
    "from sklearn.preprocessing import MinMaxScaler, PolynomialFeatures\n",
    "from sklearn import datasets, linear_model\n",
    "from sklearn.metrics import confusion_matrix, f1_score"
   ]
  },
  {
   "cell_type": "code",
   "execution_count": 2,
   "metadata": {},
   "outputs": [],
   "source": [
    "df_train = pd.read_csv('Real_Train_chr_data.csv')"
   ]
  },
  {
   "cell_type": "code",
   "execution_count": 3,
   "metadata": {},
   "outputs": [],
   "source": [
    "X = df_train.drop('donr', axis=1)\n",
    "y = df_train[['ID', 'donr']]"
   ]
  },
  {
   "cell_type": "code",
   "execution_count": 4,
   "metadata": {},
   "outputs": [],
   "source": [
    "X.drop('Unnamed: 0', axis=1, inplace=True)"
   ]
  },
  {
   "cell_type": "code",
   "execution_count": 5,
   "metadata": {},
   "outputs": [],
   "source": [
    "X = pd.get_dummies(X, columns=[\"chld\"])"
   ]
  },
  {
   "cell_type": "code",
   "execution_count": 6,
   "metadata": {},
   "outputs": [],
   "source": [
    "X = pd.get_dummies(X, columns=[\"wrat\"])"
   ]
  },
  {
   "cell_type": "code",
   "execution_count": 7,
   "metadata": {},
   "outputs": [],
   "source": [
    "scaler = MinMaxScaler(copy=True)\n",
    "f_feat = PolynomialFeatures(degree=5)\n",
    "avhv = X['avhv'].to_numpy()\n",
    "incm = X['incm'].to_numpy()\n",
    "inca = X['inca'].to_numpy()\n",
    "\n",
    "plow = X['plow'].to_numpy()\n",
    "npro = X['npro'].to_numpy()\n",
    "tgif = X['tgif'].to_numpy()\n",
    "\n",
    "lgif = X['lgif'].to_numpy()\n",
    "rgif = X['rgif'].to_numpy()\n",
    "tdon = X['tdon'].to_numpy()\n",
    "\n",
    "tlag = X['tlag'].to_numpy()\n",
    "agif = X['agif'].to_numpy()\n",
    "\n",
    "X.drop(columns=['avhv', 'incm', 'inca', 'plow', 'npro', 'tgif', 'lgif', 'rgif', 'tdon', 'tlag', 'agif'], inplace=True)\n",
    "\n",
    "avhv = scaler.fit_transform(avhv.reshape(-1, 1))\n",
    "incm = scaler.fit_transform(incm.reshape(-1, 1))\n",
    "inca = scaler.fit_transform(inca.reshape(-1, 1))\n",
    "\n",
    "plow = scaler.fit_transform(plow.reshape(-1, 1))\n",
    "npro = scaler.fit_transform(npro.reshape(-1, 1))\n",
    "tgif = scaler.fit_transform(tgif.reshape(-1, 1))\n",
    "\n",
    "lgif = scaler.fit_transform(lgif.reshape(-1, 1))\n",
    "rgif = scaler.fit_transform(rgif.reshape(-1, 1))\n",
    "tdon = scaler.fit_transform(tdon.reshape(-1, 1))\n",
    "\n",
    "tlag = scaler.fit_transform(tlag.reshape(-1, 1))\n",
    "agif = scaler.fit_transform(agif.reshape(-1, 1))\n",
    "\n",
    "avhv = f_feat.fit_transform(avhv)\n",
    "incm = f_feat.fit_transform(incm)\n",
    "inca = f_feat.fit_transform(inca)\n",
    "\n",
    "plow = f_feat.fit_transform(plow)\n",
    "npro = f_feat.fit_transform(npro)\n",
    "tgif = f_feat.fit_transform(tgif)\n",
    "\n",
    "lgif = f_feat.fit_transform(lgif)\n",
    "rgif = f_feat.fit_transform(rgif)\n",
    "tdon = f_feat.fit_transform(tdon)\n",
    "\n",
    "tlag = f_feat.fit_transform(tlag)\n",
    "agif = f_feat.fit_transform(agif)"
   ]
  },
  {
   "cell_type": "code",
   "execution_count": 8,
   "metadata": {},
   "outputs": [
    {
     "data": {
      "text/html": [
       "<div>\n",
       "<style scoped>\n",
       "    .dataframe tbody tr th:only-of-type {\n",
       "        vertical-align: middle;\n",
       "    }\n",
       "\n",
       "    .dataframe tbody tr th {\n",
       "        vertical-align: top;\n",
       "    }\n",
       "\n",
       "    .dataframe thead th {\n",
       "        text-align: right;\n",
       "    }\n",
       "</style>\n",
       "<table border=\"1\" class=\"dataframe\">\n",
       "  <thead>\n",
       "    <tr style=\"text-align: right;\">\n",
       "      <th></th>\n",
       "      <th>ID</th>\n",
       "      <th>reg1</th>\n",
       "      <th>reg2</th>\n",
       "      <th>reg3</th>\n",
       "      <th>reg4</th>\n",
       "      <th>home</th>\n",
       "      <th>hinc</th>\n",
       "      <th>genf</th>\n",
       "      <th>chld_0</th>\n",
       "      <th>chld_1</th>\n",
       "      <th>...</th>\n",
       "      <th>wrat_0</th>\n",
       "      <th>wrat_1</th>\n",
       "      <th>wrat_2</th>\n",
       "      <th>wrat_3</th>\n",
       "      <th>wrat_4</th>\n",
       "      <th>wrat_5</th>\n",
       "      <th>wrat_6</th>\n",
       "      <th>wrat_7</th>\n",
       "      <th>wrat_8</th>\n",
       "      <th>wrat_9</th>\n",
       "    </tr>\n",
       "  </thead>\n",
       "  <tbody>\n",
       "    <tr>\n",
       "      <th>0</th>\n",
       "      <td>1836</td>\n",
       "      <td>0</td>\n",
       "      <td>0</td>\n",
       "      <td>0</td>\n",
       "      <td>0</td>\n",
       "      <td>1</td>\n",
       "      <td>4</td>\n",
       "      <td>1</td>\n",
       "      <td>0</td>\n",
       "      <td>0</td>\n",
       "      <td>...</td>\n",
       "      <td>0</td>\n",
       "      <td>0</td>\n",
       "      <td>0</td>\n",
       "      <td>0</td>\n",
       "      <td>0</td>\n",
       "      <td>0</td>\n",
       "      <td>1</td>\n",
       "      <td>0</td>\n",
       "      <td>0</td>\n",
       "      <td>0</td>\n",
       "    </tr>\n",
       "    <tr>\n",
       "      <th>1</th>\n",
       "      <td>6494</td>\n",
       "      <td>0</td>\n",
       "      <td>0</td>\n",
       "      <td>0</td>\n",
       "      <td>1</td>\n",
       "      <td>1</td>\n",
       "      <td>4</td>\n",
       "      <td>0</td>\n",
       "      <td>0</td>\n",
       "      <td>0</td>\n",
       "      <td>...</td>\n",
       "      <td>1</td>\n",
       "      <td>0</td>\n",
       "      <td>0</td>\n",
       "      <td>0</td>\n",
       "      <td>0</td>\n",
       "      <td>0</td>\n",
       "      <td>0</td>\n",
       "      <td>0</td>\n",
       "      <td>0</td>\n",
       "      <td>0</td>\n",
       "    </tr>\n",
       "    <tr>\n",
       "      <th>2</th>\n",
       "      <td>113</td>\n",
       "      <td>0</td>\n",
       "      <td>1</td>\n",
       "      <td>0</td>\n",
       "      <td>0</td>\n",
       "      <td>1</td>\n",
       "      <td>2</td>\n",
       "      <td>0</td>\n",
       "      <td>0</td>\n",
       "      <td>0</td>\n",
       "      <td>...</td>\n",
       "      <td>0</td>\n",
       "      <td>0</td>\n",
       "      <td>0</td>\n",
       "      <td>0</td>\n",
       "      <td>0</td>\n",
       "      <td>0</td>\n",
       "      <td>0</td>\n",
       "      <td>1</td>\n",
       "      <td>0</td>\n",
       "      <td>0</td>\n",
       "    </tr>\n",
       "    <tr>\n",
       "      <th>3</th>\n",
       "      <td>2487</td>\n",
       "      <td>0</td>\n",
       "      <td>0</td>\n",
       "      <td>0</td>\n",
       "      <td>0</td>\n",
       "      <td>1</td>\n",
       "      <td>4</td>\n",
       "      <td>1</td>\n",
       "      <td>0</td>\n",
       "      <td>1</td>\n",
       "      <td>...</td>\n",
       "      <td>0</td>\n",
       "      <td>0</td>\n",
       "      <td>0</td>\n",
       "      <td>0</td>\n",
       "      <td>0</td>\n",
       "      <td>0</td>\n",
       "      <td>1</td>\n",
       "      <td>0</td>\n",
       "      <td>0</td>\n",
       "      <td>0</td>\n",
       "    </tr>\n",
       "    <tr>\n",
       "      <th>4</th>\n",
       "      <td>2153</td>\n",
       "      <td>0</td>\n",
       "      <td>1</td>\n",
       "      <td>0</td>\n",
       "      <td>0</td>\n",
       "      <td>1</td>\n",
       "      <td>7</td>\n",
       "      <td>1</td>\n",
       "      <td>1</td>\n",
       "      <td>0</td>\n",
       "      <td>...</td>\n",
       "      <td>0</td>\n",
       "      <td>0</td>\n",
       "      <td>0</td>\n",
       "      <td>0</td>\n",
       "      <td>0</td>\n",
       "      <td>0</td>\n",
       "      <td>0</td>\n",
       "      <td>0</td>\n",
       "      <td>1</td>\n",
       "      <td>0</td>\n",
       "    </tr>\n",
       "  </tbody>\n",
       "</table>\n",
       "<p>5 rows × 24 columns</p>\n",
       "</div>"
      ],
      "text/plain": [
       "     ID  reg1  reg2  reg3  reg4  home  hinc  genf  chld_0  chld_1  ...  \\\n",
       "0  1836     0     0     0     0     1     4     1       0       0  ...   \n",
       "1  6494     0     0     0     1     1     4     0       0       0  ...   \n",
       "2   113     0     1     0     0     1     2     0       0       0  ...   \n",
       "3  2487     0     0     0     0     1     4     1       0       1  ...   \n",
       "4  2153     0     1     0     0     1     7     1       1       0  ...   \n",
       "\n",
       "   wrat_0  wrat_1  wrat_2  wrat_3  wrat_4  wrat_5  wrat_6  wrat_7  wrat_8  \\\n",
       "0       0       0       0       0       0       0       1       0       0   \n",
       "1       1       0       0       0       0       0       0       0       0   \n",
       "2       0       0       0       0       0       0       0       1       0   \n",
       "3       0       0       0       0       0       0       1       0       0   \n",
       "4       0       0       0       0       0       0       0       0       1   \n",
       "\n",
       "   wrat_9  \n",
       "0       0  \n",
       "1       0  \n",
       "2       0  \n",
       "3       0  \n",
       "4       0  \n",
       "\n",
       "[5 rows x 24 columns]"
      ]
     },
     "execution_count": 8,
     "metadata": {},
     "output_type": "execute_result"
    }
   ],
   "source": [
    "X.head()"
   ]
  },
  {
   "cell_type": "code",
   "execution_count": 9,
   "metadata": {},
   "outputs": [],
   "source": [
    "X_train = np.hstack([incm, inca, npro, tgif, lgif, rgif, tdon, tlag, agif, X.to_numpy()])"
   ]
  },
  {
   "cell_type": "code",
   "execution_count": 10,
   "metadata": {},
   "outputs": [
    {
     "data": {
      "text/plain": [
       "(4201, 78)"
      ]
     },
     "execution_count": 10,
     "metadata": {},
     "output_type": "execute_result"
    }
   ],
   "source": [
    "X_train.shape"
   ]
  },
  {
   "cell_type": "code",
   "execution_count": 11,
   "metadata": {},
   "outputs": [],
   "source": [
    "X_train_part, X_test_part, Y_train_part, Y_test_part = train_test_split(\n",
    "    X_train, y, test_size=0.30, random_state=50)"
   ]
  },
  {
   "cell_type": "code",
   "execution_count": 12,
   "metadata": {},
   "outputs": [],
   "source": [
    "regr = linear_model.LogisticRegression()"
   ]
  },
  {
   "cell_type": "code",
   "execution_count": 13,
   "metadata": {},
   "outputs": [
    {
     "name": "stderr",
     "output_type": "stream",
     "text": [
      "C:\\ProgramData\\Anaconda3\\lib\\site-packages\\sklearn\\linear_model\\logistic.py:432: FutureWarning: Default solver will be changed to 'lbfgs' in 0.22. Specify a solver to silence this warning.\n",
      "  FutureWarning)\n"
     ]
    },
    {
     "data": {
      "text/plain": [
       "LogisticRegression(C=1.0, class_weight=None, dual=False, fit_intercept=True,\n",
       "                   intercept_scaling=1, l1_ratio=None, max_iter=100,\n",
       "                   multi_class='warn', n_jobs=None, penalty='l2',\n",
       "                   random_state=None, solver='warn', tol=0.0001, verbose=0,\n",
       "                   warm_start=False)"
      ]
     },
     "execution_count": 13,
     "metadata": {},
     "output_type": "execute_result"
    }
   ],
   "source": [
    "regr.fit(X_train_part, Y_train_part['donr'])"
   ]
  },
  {
   "cell_type": "code",
   "execution_count": 14,
   "metadata": {},
   "outputs": [],
   "source": [
    "y_pred = regr.predict(X_test_part)"
   ]
  },
  {
   "cell_type": "code",
   "execution_count": 15,
   "metadata": {},
   "outputs": [],
   "source": [
    "df_test = pd.read_csv('Real_Test_chr_data.csv')"
   ]
  },
  {
   "cell_type": "code",
   "execution_count": 16,
   "metadata": {},
   "outputs": [
    {
     "data": {
      "text/html": [
       "<div>\n",
       "<style scoped>\n",
       "    .dataframe tbody tr th:only-of-type {\n",
       "        vertical-align: middle;\n",
       "    }\n",
       "\n",
       "    .dataframe tbody tr th {\n",
       "        vertical-align: top;\n",
       "    }\n",
       "\n",
       "    .dataframe thead th {\n",
       "        text-align: right;\n",
       "    }\n",
       "</style>\n",
       "<table border=\"1\" class=\"dataframe\">\n",
       "  <thead>\n",
       "    <tr style=\"text-align: right;\">\n",
       "      <th></th>\n",
       "      <th>Unnamed: 0</th>\n",
       "      <th>ID</th>\n",
       "      <th>reg1</th>\n",
       "      <th>reg2</th>\n",
       "      <th>reg3</th>\n",
       "      <th>reg4</th>\n",
       "      <th>home</th>\n",
       "      <th>chld</th>\n",
       "      <th>hinc</th>\n",
       "      <th>genf</th>\n",
       "      <th>...</th>\n",
       "      <th>incm</th>\n",
       "      <th>inca</th>\n",
       "      <th>plow</th>\n",
       "      <th>npro</th>\n",
       "      <th>tgif</th>\n",
       "      <th>lgif</th>\n",
       "      <th>rgif</th>\n",
       "      <th>tdon</th>\n",
       "      <th>tlag</th>\n",
       "      <th>agif</th>\n",
       "    </tr>\n",
       "  </thead>\n",
       "  <tbody>\n",
       "    <tr>\n",
       "      <th>0</th>\n",
       "      <td>1782</td>\n",
       "      <td>3503</td>\n",
       "      <td>1</td>\n",
       "      <td>0</td>\n",
       "      <td>0</td>\n",
       "      <td>0</td>\n",
       "      <td>1</td>\n",
       "      <td>3</td>\n",
       "      <td>6</td>\n",
       "      <td>1</td>\n",
       "      <td>...</td>\n",
       "      <td>25</td>\n",
       "      <td>41</td>\n",
       "      <td>22</td>\n",
       "      <td>62</td>\n",
       "      <td>86</td>\n",
       "      <td>11</td>\n",
       "      <td>14</td>\n",
       "      <td>17</td>\n",
       "      <td>10</td>\n",
       "      <td>6.41</td>\n",
       "    </tr>\n",
       "    <tr>\n",
       "      <th>1</th>\n",
       "      <td>3917</td>\n",
       "      <td>7875</td>\n",
       "      <td>0</td>\n",
       "      <td>1</td>\n",
       "      <td>0</td>\n",
       "      <td>0</td>\n",
       "      <td>1</td>\n",
       "      <td>0</td>\n",
       "      <td>4</td>\n",
       "      <td>1</td>\n",
       "      <td>...</td>\n",
       "      <td>47</td>\n",
       "      <td>47</td>\n",
       "      <td>14</td>\n",
       "      <td>12</td>\n",
       "      <td>41</td>\n",
       "      <td>23</td>\n",
       "      <td>13</td>\n",
       "      <td>15</td>\n",
       "      <td>3</td>\n",
       "      <td>14.55</td>\n",
       "    </tr>\n",
       "    <tr>\n",
       "      <th>2</th>\n",
       "      <td>221</td>\n",
       "      <td>484</td>\n",
       "      <td>0</td>\n",
       "      <td>0</td>\n",
       "      <td>0</td>\n",
       "      <td>0</td>\n",
       "      <td>1</td>\n",
       "      <td>2</td>\n",
       "      <td>2</td>\n",
       "      <td>1</td>\n",
       "      <td>...</td>\n",
       "      <td>76</td>\n",
       "      <td>76</td>\n",
       "      <td>2</td>\n",
       "      <td>67</td>\n",
       "      <td>116</td>\n",
       "      <td>67</td>\n",
       "      <td>45</td>\n",
       "      <td>21</td>\n",
       "      <td>4</td>\n",
       "      <td>21.99</td>\n",
       "    </tr>\n",
       "    <tr>\n",
       "      <th>3</th>\n",
       "      <td>2135</td>\n",
       "      <td>4240</td>\n",
       "      <td>0</td>\n",
       "      <td>0</td>\n",
       "      <td>0</td>\n",
       "      <td>0</td>\n",
       "      <td>1</td>\n",
       "      <td>3</td>\n",
       "      <td>4</td>\n",
       "      <td>1</td>\n",
       "      <td>...</td>\n",
       "      <td>29</td>\n",
       "      <td>42</td>\n",
       "      <td>20</td>\n",
       "      <td>41</td>\n",
       "      <td>50</td>\n",
       "      <td>27</td>\n",
       "      <td>20</td>\n",
       "      <td>15</td>\n",
       "      <td>15</td>\n",
       "      <td>14.15</td>\n",
       "    </tr>\n",
       "    <tr>\n",
       "      <th>4</th>\n",
       "      <td>1841</td>\n",
       "      <td>7349</td>\n",
       "      <td>0</td>\n",
       "      <td>0</td>\n",
       "      <td>1</td>\n",
       "      <td>0</td>\n",
       "      <td>1</td>\n",
       "      <td>5</td>\n",
       "      <td>2</td>\n",
       "      <td>1</td>\n",
       "      <td>...</td>\n",
       "      <td>72</td>\n",
       "      <td>72</td>\n",
       "      <td>2</td>\n",
       "      <td>78</td>\n",
       "      <td>114</td>\n",
       "      <td>17</td>\n",
       "      <td>24</td>\n",
       "      <td>23</td>\n",
       "      <td>6</td>\n",
       "      <td>7.66</td>\n",
       "    </tr>\n",
       "  </tbody>\n",
       "</table>\n",
       "<p>5 rows × 22 columns</p>\n",
       "</div>"
      ],
      "text/plain": [
       "   Unnamed: 0    ID  reg1  reg2  reg3  reg4  home  chld  hinc  genf  ...  \\\n",
       "0        1782  3503     1     0     0     0     1     3     6     1  ...   \n",
       "1        3917  7875     0     1     0     0     1     0     4     1  ...   \n",
       "2         221   484     0     0     0     0     1     2     2     1  ...   \n",
       "3        2135  4240     0     0     0     0     1     3     4     1  ...   \n",
       "4        1841  7349     0     0     1     0     1     5     2     1  ...   \n",
       "\n",
       "   incm  inca  plow  npro  tgif  lgif  rgif  tdon  tlag   agif  \n",
       "0    25    41    22    62    86    11    14    17    10   6.41  \n",
       "1    47    47    14    12    41    23    13    15     3  14.55  \n",
       "2    76    76     2    67   116    67    45    21     4  21.99  \n",
       "3    29    42    20    41    50    27    20    15    15  14.15  \n",
       "4    72    72     2    78   114    17    24    23     6   7.66  \n",
       "\n",
       "[5 rows x 22 columns]"
      ]
     },
     "execution_count": 16,
     "metadata": {},
     "output_type": "execute_result"
    }
   ],
   "source": [
    "df_test.head()"
   ]
  },
  {
   "cell_type": "code",
   "execution_count": 17,
   "metadata": {},
   "outputs": [
    {
     "data": {
      "text/plain": [
       "array([[551,  97],\n",
       "       [ 90, 523]], dtype=int64)"
      ]
     },
     "execution_count": 17,
     "metadata": {},
     "output_type": "execute_result"
    }
   ],
   "source": [
    "confusion_matrix(Y_test_part['donr'], y_pred)"
   ]
  },
  {
   "cell_type": "code",
   "execution_count": 18,
   "metadata": {},
   "outputs": [
    {
     "data": {
      "text/plain": [
       "0.8483373884833738"
      ]
     },
     "execution_count": 18,
     "metadata": {},
     "output_type": "execute_result"
    }
   ],
   "source": [
    "f1_score(Y_test_part['donr'], y_pred)"
   ]
  },
  {
   "cell_type": "code",
   "execution_count": 20,
   "metadata": {},
   "outputs": [],
   "source": [
    "X_test = df_test\n",
    "X_test.drop('Unnamed: 0', axis=1, inplace=True)\n",
    "X_test = pd.get_dummies(X_test, columns=[\"chld\"])\n",
    "X_test = pd.get_dummies(X_test, columns=[\"wrat\"])\n",
    "scaler = MinMaxScaler(copy=True)\n",
    "f_feat = PolynomialFeatures(degree=5)\n",
    "avhv = X_test['avhv'].to_numpy()\n",
    "incm = X_test['incm'].to_numpy()\n",
    "inca = X_test['inca'].to_numpy()\n",
    "\n",
    "plow = X_test['plow'].to_numpy()\n",
    "npro = X_test['npro'].to_numpy()\n",
    "tgif = X_test['tgif'].to_numpy()\n",
    "\n",
    "lgif = X_test['lgif'].to_numpy()\n",
    "rgif = X_test['rgif'].to_numpy()\n",
    "tdon = X_test['tdon'].to_numpy()\n",
    "\n",
    "tlag = X_test['tlag'].to_numpy()\n",
    "agif = X_test['agif'].to_numpy()\n",
    "\n",
    "X_test.drop(columns=['avhv', 'incm', 'inca', 'plow', 'npro', 'tgif', 'lgif', 'rgif', 'tdon', 'tlag', 'agif'], inplace=True)\n",
    "\n",
    "avhv = scaler.fit_transform(avhv.reshape(-1, 1))\n",
    "incm = scaler.fit_transform(incm.reshape(-1, 1))\n",
    "inca = scaler.fit_transform(inca.reshape(-1, 1))\n",
    "\n",
    "plow = scaler.fit_transform(plow.reshape(-1, 1))\n",
    "npro = scaler.fit_transform(npro.reshape(-1, 1))\n",
    "tgif = scaler.fit_transform(tgif.reshape(-1, 1))\n",
    "\n",
    "lgif = scaler.fit_transform(lgif.reshape(-1, 1))\n",
    "rgif = scaler.fit_transform(rgif.reshape(-1, 1))\n",
    "tdon = scaler.fit_transform(tdon.reshape(-1, 1))\n",
    "\n",
    "tlag = scaler.fit_transform(tlag.reshape(-1, 1))\n",
    "agif = scaler.fit_transform(agif.reshape(-1, 1))\n",
    "\n",
    "avhv = f_feat.fit_transform(avhv)\n",
    "incm = f_feat.fit_transform(incm)\n",
    "inca = f_feat.fit_transform(inca)\n",
    "\n",
    "plow = f_feat.fit_transform(plow)\n",
    "npro = f_feat.fit_transform(npro)\n",
    "tgif = f_feat.fit_transform(tgif)\n",
    "\n",
    "lgif = f_feat.fit_transform(lgif)\n",
    "rgif = f_feat.fit_transform(rgif)\n",
    "tdon = f_feat.fit_transform(tdon)\n",
    "\n",
    "tlag = f_feat.fit_transform(tlag)\n",
    "agif = f_feat.fit_transform(agif)"
   ]
  },
  {
   "cell_type": "code",
   "execution_count": 21,
   "metadata": {},
   "outputs": [],
   "source": [
    "X_test_ = np.hstack([incm, inca, npro, tgif, lgif, rgif, tdon, tlag, agif, X_test.to_numpy()])"
   ]
  },
  {
   "cell_type": "code",
   "execution_count": 22,
   "metadata": {},
   "outputs": [],
   "source": [
    "y_fin = regr.predict(X_test_)"
   ]
  },
  {
   "cell_type": "code",
   "execution_count": 23,
   "metadata": {},
   "outputs": [
    {
     "data": {
      "text/plain": [
       "array([0., 1., 0., ..., 1., 0., 1.])"
      ]
     },
     "execution_count": 23,
     "metadata": {},
     "output_type": "execute_result"
    }
   ],
   "source": [
    "y_fin"
   ]
  },
  {
   "cell_type": "code",
   "execution_count": 31,
   "metadata": {},
   "outputs": [],
   "source": [
    "y_fin_ = pd.DataFrame(y_fin, columns=['donr'])\n",
    "filename = '201217_Efremova_1.csv'\n",
    "y_fin_.to_csv(filename, index=None)"
   ]
  },
  {
   "cell_type": "code",
   "execution_count": null,
   "metadata": {},
   "outputs": [],
   "source": []
  }
 ],
 "metadata": {
  "kernelspec": {
   "display_name": "Python 3",
   "language": "python",
   "name": "python3"
  },
  "language_info": {
   "codemirror_mode": {
    "name": "ipython",
    "version": 3
   },
   "file_extension": ".py",
   "mimetype": "text/x-python",
   "name": "python",
   "nbconvert_exporter": "python",
   "pygments_lexer": "ipython3",
   "version": "3.8.3"
  }
 },
 "nbformat": 4,
 "nbformat_minor": 4
}
